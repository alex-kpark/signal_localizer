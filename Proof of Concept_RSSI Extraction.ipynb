{
 "cells": [
  {
   "cell_type": "markdown",
   "metadata": {},
   "source": [
    "# PoC: Extract RSSI Value with Wi-Fi chip"
   ]
  },
  {
   "cell_type": "code",
   "execution_count": 56,
   "metadata": {},
   "outputs": [],
   "source": [
    "import subprocess\n",
    "import pandas as pd\n",
    "from access_points import get_scanner\n",
    "\n",
    "#from io import StringIO\n",
    "#from StringIO import StringIO"
   ]
  },
  {
   "cell_type": "code",
   "execution_count": 54,
   "metadata": {},
   "outputs": [],
   "source": [
    "command = 'nmcli dev wifi'\n",
    "output = subprocess.Popen(command, shell=True, stdout=subprocess.PIPE).stdout"
   ]
  },
  {
   "cell_type": "code",
   "execution_count": 55,
   "metadata": {},
   "outputs": [
    {
     "name": "stdout",
     "output_type": "stream",
     "text": [
      "b'IN-USE  SSID          MODE   CHAN  RATE        SIGNAL  BARS  SECURITY \\n*       shadysideinn  Infra  6     130 Mbit/s  67      \\xe2\\x96\\x82\\xe2\\x96\\x84\\xe2\\x96\\x86_  WPA2     \\n'\n",
      "\n",
      "\n",
      "IN-USE  SSID          MODE   CHAN  RATE        SIGNAL  BARS  SECURITY \n",
      "*       shadysideinn  Infra  6     130 Mbit/s  67      ▂▄▆_  WPA2     \n",
      "\n"
     ]
    }
   ],
   "source": [
    "output_2 = output.read()#.decode('utf-8')\n",
    "output_3 = output_2.decode('utf-8')\n",
    "\n",
    "print(output_2)\n",
    "print('\\n')\n",
    "print(output_3)"
   ]
  },
  {
   "cell_type": "markdown",
   "metadata": {},
   "source": [
    "## Approach 2: With Python Library 'access_points'"
   ]
  },
  {
   "cell_type": "code",
   "execution_count": 72,
   "metadata": {},
   "outputs": [],
   "source": [
    "wifi_scanner = get_scanner()\n",
    "output = wifi_scanner.get_access_points()"
   ]
  },
  {
   "cell_type": "code",
   "execution_count": 74,
   "metadata": {},
   "outputs": [
    {
     "data": {
      "text/plain": [
       "[AccessPoint(ssid=shadysideinn, bssid=04:18:D6:8D:5A:83, quality=65, security=WPA2),\n",
       " AccessPoint(ssid=XFSETUP-F8FA, bssid=18:B8:1F:40:10:EF, quality=44, security=WPA2),\n",
       " AccessPoint(ssid=ssinet, bssid=06:18:D6:87:1C:DB, quality=37, security=WPA2),\n",
       " AccessPoint(ssid=shadysideinn, bssid=04:18:D6:87:1C:DB, quality=37, security=WPA2),\n",
       " AccessPoint(ssid=Go Blue, bssid=28:CF:DA:B9:DE:DF, quality=35, security=WPA2),\n",
       " AccessPoint(ssid=xfinitywifi, bssid=2A:B8:1F:40:10:EF, quality=35, security=),\n",
       " AccessPoint(ssid=boomzilla-guest, bssid=1A:91:82:9F:F1:03, quality=34, security=WPA2),\n",
       " AccessPoint(ssid=Not Dans WiFi, bssid=F4:F2:6D:3D:6C:10, quality=29, security=WPA1 WPA2),\n",
       " AccessPoint(ssid=, bssid=70:03:7E:ED:4D:0C, quality=25, security=WPA1 WPA2 802.1X),\n",
       " AccessPoint(ssid=, bssid=2E:95:69:9E:50:CA, quality=24, security=WPA1 WPA2),\n",
       " AccessPoint(ssid=XFINITY, bssid=70:03:7E:ED:4D:0B, quality=24, security=WPA2 802.1X),\n",
       " AccessPoint(ssid=Go Blue, bssid=F0:D1:A9:13:B2:92, quality=19, security=WPA2),\n",
       " AccessPoint(ssid=xfinitywifi, bssid=C6:27:95:C9:55:3F, quality=15, security=)]"
      ]
     },
     "execution_count": 74,
     "metadata": {},
     "output_type": "execute_result"
    }
   ],
   "source": [
    "output"
   ]
  },
  {
   "cell_type": "code",
   "execution_count": 77,
   "metadata": {},
   "outputs": [
    {
     "name": "stdout",
     "output_type": "stream",
     "text": [
      "RSSI is:  37\n"
     ]
    }
   ],
   "source": [
    "tmp_dict = {}\n",
    "for ap in output:\n",
    "    tmp_dict[ap.ssid] = ap.quality\n",
    "\n",
    "target_ap_name = 'shadysideinn'\n",
    "if target_ap_name not in tmp_dict:\n",
    "    print('Cell Phone is not detected!')\n",
    "    \n",
    "else:\n",
    "    print('RSSI is: ', tmp_dict[target_ap_name])"
   ]
  },
  {
   "cell_type": "code",
   "execution_count": null,
   "metadata": {},
   "outputs": [],
   "source": []
  }
 ],
 "metadata": {
  "kernelspec": {
   "display_name": "Python 3",
   "language": "python",
   "name": "python3"
  },
  "language_info": {
   "codemirror_mode": {
    "name": "ipython",
    "version": 3
   },
   "file_extension": ".py",
   "mimetype": "text/x-python",
   "name": "python",
   "nbconvert_exporter": "python",
   "pygments_lexer": "ipython3",
   "version": "3.6.9"
  }
 },
 "nbformat": 4,
 "nbformat_minor": 4
}
